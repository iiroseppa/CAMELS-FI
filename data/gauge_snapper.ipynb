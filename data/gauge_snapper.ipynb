{
 "cells": [
  {
   "cell_type": "code",
   "execution_count": 1,
   "id": "c33cfd96-3b08-431c-92d6-0ab0c7160c38",
   "metadata": {},
   "outputs": [],
   "source": [
    "import pandas as pd \n",
    "import geopandas as geopd\n",
    "\n",
    "import os\n",
    "\n",
    "try:# has been imported\n",
    "    from whitebox.WBT.whitebox_tools import WhiteboxTools\n",
    "except: #hasn't been imported previously\n",
    "    from whitebox.whitebox_tools import WhiteboxTools\n",
    "\n",
    "from tqdm.notebook import tqdm"
   ]
  },
  {
   "cell_type": "code",
   "execution_count": 2,
   "id": "50cd12db-1c62-4762-82bd-ca93c356ea05",
   "metadata": {},
   "outputs": [],
   "source": [
    "wbt = WhiteboxTools()\n",
    "wbt.set_verbose_mode(False)\n",
    "\n",
    "catchments_path = \"/home/iielse/Documents/DIWA/data/CAMELS-FI catchments/CAMELS-FI_basins.gpkg\"\n",
    "catchments = geopd.read_file(catchments_path, layer='v1')\n",
    "catchments = catchments.reset_index(names=['dem_id'])\n",
    "\n",
    "\n",
    "gauge_path = \"/home/iielse/Documents/DIWA/data/omat digitoinnit/CAMELS-FI flow gauges.gpkg\"\n",
    "gauges = geopd.read_file(gauge_path, layer=\"attributes_v1\")\n",
    "gauges = geopd.sjoin(gauges[['gauge_id', 'geometry']], catchments[['dem_id', 'geometry']], how='left')\n",
    "gauges = gauges.drop('index_right', axis=1)"
   ]
  },
  {
   "cell_type": "code",
   "execution_count": 3,
   "id": "e625538b-1052-4aef-a1bf-9b1c0dab5ae7",
   "metadata": {},
   "outputs": [
    {
     "data": {
      "text/html": [
       "<div>\n",
       "<style scoped>\n",
       "    .dataframe tbody tr th:only-of-type {\n",
       "        vertical-align: middle;\n",
       "    }\n",
       "\n",
       "    .dataframe tbody tr th {\n",
       "        vertical-align: top;\n",
       "    }\n",
       "\n",
       "    .dataframe thead th {\n",
       "        text-align: right;\n",
       "    }\n",
       "</style>\n",
       "<table border=\"1\" class=\"dataframe\">\n",
       "  <thead>\n",
       "    <tr style=\"text-align: right;\">\n",
       "      <th></th>\n",
       "      <th>gauge_id</th>\n",
       "      <th>geometry</th>\n",
       "      <th>dem_id</th>\n",
       "    </tr>\n",
       "  </thead>\n",
       "  <tbody>\n",
       "    <tr>\n",
       "      <th>0</th>\n",
       "      <td>996</td>\n",
       "      <td>POINT (426439 6942209)</td>\n",
       "      <td>1</td>\n",
       "    </tr>\n",
       "    <tr>\n",
       "      <th>1</th>\n",
       "      <td>1003</td>\n",
       "      <td>POINT (483700 6986943)</td>\n",
       "      <td>1</td>\n",
       "    </tr>\n",
       "    <tr>\n",
       "      <th>2</th>\n",
       "      <td>1008</td>\n",
       "      <td>POINT (465119 6942164)</td>\n",
       "      <td>1</td>\n",
       "    </tr>\n",
       "    <tr>\n",
       "      <th>3</th>\n",
       "      <td>1009</td>\n",
       "      <td>POINT (460520 6935084)</td>\n",
       "      <td>1</td>\n",
       "    </tr>\n",
       "    <tr>\n",
       "      <th>4</th>\n",
       "      <td>1012</td>\n",
       "      <td>POINT (457286 6916818)</td>\n",
       "      <td>1</td>\n",
       "    </tr>\n",
       "    <tr>\n",
       "      <th>...</th>\n",
       "      <td>...</td>\n",
       "      <td>...</td>\n",
       "      <td>...</td>\n",
       "    </tr>\n",
       "    <tr>\n",
       "      <th>315</th>\n",
       "      <td>961</td>\n",
       "      <td>POINT (583582.115 6937848.657)</td>\n",
       "      <td>17</td>\n",
       "    </tr>\n",
       "    <tr>\n",
       "      <th>316</th>\n",
       "      <td>964</td>\n",
       "      <td>POINT (534007 6924481)</td>\n",
       "      <td>56</td>\n",
       "    </tr>\n",
       "    <tr>\n",
       "      <th>317</th>\n",
       "      <td>1369</td>\n",
       "      <td>POINT (492240 7361571)</td>\n",
       "      <td>0</td>\n",
       "    </tr>\n",
       "    <tr>\n",
       "      <th>318</th>\n",
       "      <td>1366</td>\n",
       "      <td>POINT (497774 7355695)</td>\n",
       "      <td>0</td>\n",
       "    </tr>\n",
       "    <tr>\n",
       "      <th>319</th>\n",
       "      <td>1357</td>\n",
       "      <td>POINT (513991 7456197)</td>\n",
       "      <td>0</td>\n",
       "    </tr>\n",
       "  </tbody>\n",
       "</table>\n",
       "<p>320 rows × 3 columns</p>\n",
       "</div>"
      ],
      "text/plain": [
       "    gauge_id                        geometry  dem_id\n",
       "0        996          POINT (426439 6942209)       1\n",
       "1       1003          POINT (483700 6986943)       1\n",
       "2       1008          POINT (465119 6942164)       1\n",
       "3       1009          POINT (460520 6935084)       1\n",
       "4       1012          POINT (457286 6916818)       1\n",
       "..       ...                             ...     ...\n",
       "315      961  POINT (583582.115 6937848.657)      17\n",
       "316      964          POINT (534007 6924481)      56\n",
       "317     1369          POINT (492240 7361571)       0\n",
       "318     1366          POINT (497774 7355695)       0\n",
       "319     1357          POINT (513991 7456197)       0\n",
       "\n",
       "[320 rows x 3 columns]"
      ]
     },
     "execution_count": 3,
     "metadata": {},
     "output_type": "execute_result"
    }
   ],
   "source": [
    "gauges"
   ]
  },
  {
   "cell_type": "code",
   "execution_count": 4,
   "id": "669bc6b6-5676-4ce1-996c-67e5656b989f",
   "metadata": {},
   "outputs": [
    {
     "data": {
      "application/vnd.jupyter.widget-view+json": {
       "model_id": "ae42302df49048a6b03d262830380f32",
       "version_major": 2,
       "version_minor": 0
      },
      "text/plain": [
       "  0%|          | 0/74 [00:00<?, ?it/s]"
      ]
     },
     "metadata": {},
     "output_type": "display_data"
    }
   ],
   "source": [
    "root = \"/media/iielse/T9/gisT7/korkeusmalli_10_m\"\n",
    "#root = '/home/iiro/980/GIS980/korkeusmalli_10_m'\n",
    "\n",
    "stream_dir = os.path.join(root, \"stream_thresholding\")\n",
    "\n",
    "tmp_dir = \"/tmp/stream_processing\"\n",
    "if not os.path.isdir(tmp_dir):\n",
    "        os.mkdir(tmp_dir)\n",
    "\n",
    "point_tmp_path = os.path.join(tmp_dir, \"pour_points.shp\")\n",
    "snapped_tmp_path = os.path.join(tmp_dir, \"snapped_points.shp\")\n",
    "\n",
    "\n",
    "snapped_locations = []\n",
    "with tqdm(catchments.iterrows(), total=len(catchments)) as pbar:\n",
    "    for i, catchment in pbar:\n",
    "        locations = gauges.loc[gauges['dem_id'] == i]\n",
    "        counter = 0\n",
    "\n",
    "        for j, location in locations.iterrows():\n",
    "            counter += 1\n",
    "            pbar.set_description(f\"processing pour point {counter}/{len(locations)} of catchment {i}\")\n",
    "\n",
    "             # Converting from series to GeoDataFrame\n",
    "            location = geopd.GeoDataFrame(\n",
    "                    dict(zip(list(location.index), list(location.values))),\n",
    "                    crs=locations.crs, geometry='geometry', index=[0])\n",
    "            \n",
    "            stream_path = os.path.join(stream_dir, f\"stream_thresholding_{i}.tif\")\n",
    "            location.to_file(point_tmp_path)\n",
    "            wbt.jenson_snap_pour_points(point_tmp_path, stream_path, snapped_tmp_path, 500)\n",
    "            snapped_locations.append(geopd.read_file(snapped_tmp_path))"
   ]
  },
  {
   "cell_type": "code",
   "execution_count": 17,
   "id": "a802a64e-2664-4d0d-9438-bd537abc7989",
   "metadata": {},
   "outputs": [],
   "source": [
    "snapped = pd.concat(snapped_locations)\n",
    "snapped = snapped.reset_index(drop=True)"
   ]
  },
  {
   "cell_type": "code",
   "execution_count": 18,
   "id": "46ffd835-4d2c-4541-afd5-e7cdf890a0dc",
   "metadata": {},
   "outputs": [
    {
     "data": {
      "text/plain": [
       "<Axes: >"
      ]
     },
     "execution_count": 18,
     "metadata": {},
     "output_type": "execute_result"
    },
    {
     "data": {
      "image/png": "[encoded data removed]",
      "text/plain": [
       "<Figure size 640x480 with 1 Axes>"
      ]
     },
     "metadata": {},
     "output_type": "display_data"
    }
   ],
   "source": [
    "snapped.plot()"
   ]
  },
  {
   "cell_type": "code",
   "execution_count": 23,
   "id": "a181dee1-31cf-46e6-ad84-ccffc289be58",
   "metadata": {},
   "outputs": [],
   "source": [
    "snapped.to_file(\"/home/iielse/Documents/DIWA/data/omat digitoinnit/CAMELS-FI flow gauges.gpkg\", driver='GPKG', layer='snapped')"
   ]
  },
  {
   "cell_type": "code",
   "execution_count": 21,
   "id": "8a248761-cfbe-4675-8663-2d1b2085c0e0",
   "metadata": {},
   "outputs": [
    {
     "data": {
      "text/html": [
       "<div>\n",
       "<style scoped>\n",
       "    .dataframe tbody tr th:only-of-type {\n",
       "        vertical-align: middle;\n",
       "    }\n",
       "\n",
       "    .dataframe tbody tr th {\n",
       "        vertical-align: top;\n",
       "    }\n",
       "\n",
       "    .dataframe thead th {\n",
       "        text-align: right;\n",
       "    }\n",
       "</style>\n",
       "<table border=\"1\" class=\"dataframe\">\n",
       "  <thead>\n",
       "    <tr style=\"text-align: right;\">\n",
       "      <th></th>\n",
       "      <th>gauge_id</th>\n",
       "      <th>dem_id</th>\n",
       "      <th>geometry</th>\n",
       "    </tr>\n",
       "  </thead>\n",
       "  <tbody>\n",
       "    <tr>\n",
       "      <th>0</th>\n",
       "      <td>2739</td>\n",
       "      <td>0</td>\n",
       "      <td>POINT (489184.91 7496587.245)</td>\n",
       "    </tr>\n",
       "    <tr>\n",
       "      <th>1</th>\n",
       "      <td>2740</td>\n",
       "      <td>0</td>\n",
       "      <td>POINT (482704.914 7482197.084)</td>\n",
       "    </tr>\n",
       "    <tr>\n",
       "      <th>2</th>\n",
       "      <td>3727</td>\n",
       "      <td>0</td>\n",
       "      <td>POINT (485784.912 7343165.529)</td>\n",
       "    </tr>\n",
       "    <tr>\n",
       "      <th>3</th>\n",
       "      <td>3728</td>\n",
       "      <td>0</td>\n",
       "      <td>POINT (484364.913 7344875.548)</td>\n",
       "    </tr>\n",
       "    <tr>\n",
       "      <th>4</th>\n",
       "      <td>1351</td>\n",
       "      <td>0</td>\n",
       "      <td>POINT (489524.91 7538637.715)</td>\n",
       "    </tr>\n",
       "    <tr>\n",
       "      <th>...</th>\n",
       "      <td>...</td>\n",
       "      <td>...</td>\n",
       "      <td>...</td>\n",
       "    </tr>\n",
       "    <tr>\n",
       "      <th>315</th>\n",
       "      <td>3264</td>\n",
       "      <td>69</td>\n",
       "      <td>POINT (457385 6703365)</td>\n",
       "    </tr>\n",
       "    <tr>\n",
       "      <th>316</th>\n",
       "      <td>1390</td>\n",
       "      <td>70</td>\n",
       "      <td>POINT (262125 7652515)</td>\n",
       "    </tr>\n",
       "    <tr>\n",
       "      <th>317</th>\n",
       "      <td>938</td>\n",
       "      <td>71</td>\n",
       "      <td>POINT (508815 6999975)</td>\n",
       "    </tr>\n",
       "    <tr>\n",
       "      <th>318</th>\n",
       "      <td>952</td>\n",
       "      <td>72</td>\n",
       "      <td>POINT (531575 6988205)</td>\n",
       "    </tr>\n",
       "    <tr>\n",
       "      <th>319</th>\n",
       "      <td>972</td>\n",
       "      <td>73</td>\n",
       "      <td>POINT (610465 6853845)</td>\n",
       "    </tr>\n",
       "  </tbody>\n",
       "</table>\n",
       "<p>320 rows × 3 columns</p>\n",
       "</div>"
      ],
      "text/plain": [
       "    gauge_id  dem_id                        geometry\n",
       "0       2739       0   POINT (489184.91 7496587.245)\n",
       "1       2740       0  POINT (482704.914 7482197.084)\n",
       "2       3727       0  POINT (485784.912 7343165.529)\n",
       "3       3728       0  POINT (484364.913 7344875.548)\n",
       "4       1351       0   POINT (489524.91 7538637.715)\n",
       "..       ...     ...                             ...\n",
       "315     3264      69          POINT (457385 6703365)\n",
       "316     1390      70          POINT (262125 7652515)\n",
       "317      938      71          POINT (508815 6999975)\n",
       "318      952      72          POINT (531575 6988205)\n",
       "319      972      73          POINT (610465 6853845)\n",
       "\n",
       "[320 rows x 3 columns]"
      ]
     },
     "execution_count": 21,
     "metadata": {},
     "output_type": "execute_result"
    }
   ],
   "source": [
    "snapped"
   ]
  },
  {
   "cell_type": "code",
   "execution_count": null,
   "id": "c5cbd2df-01b6-42df-8065-44e3220d22a5",
   "metadata": {},
   "outputs": [],
   "source": []
  }
 ],
 "metadata": {
  "kernelspec": {
   "display_name": "Python 3 (ipykernel)",
   "language": "python",
   "name": "python3"
  },
  "language_info": {
   "codemirror_mode": {
    "name": "ipython",
    "version": 3
   },
   "file_extension": ".py",
   "mimetype": "text/x-python",
   "name": "python",
   "nbconvert_exporter": "python",
   "pygments_lexer": "ipython3",
   "version": "3.13.2"
  }
 },
 "nbformat": 4,
 "nbformat_minor": 5
}
