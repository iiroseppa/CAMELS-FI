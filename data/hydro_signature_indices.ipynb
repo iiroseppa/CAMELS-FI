{
 "cells": [
  {
   "cell_type": "code",
   "execution_count": 1,
   "id": "2ddf3c30-aa37-4ea1-8980-c4fd37a7c57d",
   "metadata": {},
   "outputs": [],
   "source": [
    "import pandas as pd\n",
    "\n",
    "# This script calculates hydrological signature indices for the reference period (Finnish water years 1991–2020).\n",
    "# It processes discharge data to determine the number of observations, number of years, and the start and end dates\n",
    "# for each gauge. Special cases with less than 5 years of observations use all available data."
   ]
  },
  {
   "cell_type": "code",
   "execution_count": 2,
   "id": "d660e6c1-2805-4191-a225-101770f57795",
   "metadata": {},
   "outputs": [],
   "source": [
    "def read_daily_timeseries_csv(path, time_column='date'):\n",
    "    \"\"\"\n",
    "    Convenience function for reading a daily timeseries from a CSV file and setting the index as a DatetimeIndex.\n",
    "\n",
    "    Parameters:\n",
    "    path (str): The path to the CSV file.\n",
    "    time_column (str): The name of the time column in the CSV file.\n",
    "\n",
    "    Returns:\n",
    "    DataFrame: The DataFrame with the time column set as the index.\n",
    "    \"\"\"\n",
    "    \n",
    "    df = pd.read_csv(path)\n",
    "    df[time_column] = pd.to_datetime(df[time_column]) \n",
    "    df = df.set_index(time_column)\n",
    "    return df"
   ]
  },
  {
   "cell_type": "code",
   "execution_count": null,
   "id": "b9111df7-2829-4d1f-979a-8cd593acf86a",
   "metadata": {},
   "outputs": [],
   "source": [
    "# Path to the source CSV file containing discharge data\n",
    "src_path = '/path/to/discharge_spec.csv'\n",
    "data = read_daily_timeseries_csv(src_path)"
   ]
  },
  {
   "cell_type": "code",
   "execution_count": null,
   "id": "3d9e5694-25eb-4b9a-8c5a-850c5bfeedef",
   "metadata": {},
   "outputs": [],
   "source": [
    "# Reference period is Finnish water years 1991–2020\n",
    "data_ref = data.loc[\"1990-09-01\":'2020-08-31']"
   ]
  },
  {
   "cell_type": "code",
   "execution_count": 5,
   "id": "88ca2799-6497-4608-93fd-8d51f1164f15",
   "metadata": {},
   "outputs": [],
   "source": [
    "# Calculate signature indices for the reference period\n",
    "signature_indices = pd.DataFrame(data_ref.count(axis=0), columns=['sign_number_of_obs'])\n",
    "signature_indices['sign_number_of_years'] = signature_indices['sign_number_of_obs'] / 365.25\n",
    "signature_indices['sign_start_date'] = data_ref.apply(lambda col: col.first_valid_index())\n",
    "signature_indices['sign_last_date'] = data_ref.apply(lambda col: col.last_valid_index())\n",
    "\n",
    "# The gauges with less than 5 years (1826 days) of observations during the reference period use all available data\n",
    "special_cases_idx = signature_indices[signature_indices['sign_number_of_obs'] < 1827].index\n",
    "\n",
    "special_cases = data[special_cases_idx]\n",
    "special_case_indices = pd.DataFrame(special_cases.count(axis=0), columns=['sign_number_of_obs'])\n",
    "special_case_indices['sign_number_of_years'] = special_case_indices['sign_number_of_obs'] / 365.25\n",
    "special_case_indices['sign_start_date'] = special_cases.apply(lambda col: col.first_valid_index())\n",
    "special_case_indices['sign_last_date'] = special_cases.apply(lambda col: col.last_valid_index())\n",
    "\n",
    "\n",
    "# Update the signature indices with special cases\n",
    "signature_indices.update(special_case_indices)\n",
    "signature_indices = signature_indices.round(2)"
   ]
  },
  {
   "cell_type": "code",
   "execution_count": 17,
   "id": "5fcc58c1-d391-4166-a667-d20ae5e704fc",
   "metadata": {},
   "outputs": [],
   "source": [
    "# Save the signature indices to a CSV file\n",
    "signature_indices.to_csv('/path/to/signature_dates.csv')"
   ]
  },
  {
   "cell_type": "code",
   "execution_count": null,
   "id": "6c501a74-414c-42d1-abd1-12b4764daf6e",
   "metadata": {},
   "outputs": [],
   "source": [
    "# Display the signature indices and special cases\n",
    "signature_indices\n",
    "special_cases"
   ]
  }
 ],
 "metadata": {
  "kernelspec": {
   "display_name": "Python 3 (ipykernel)",
   "language": "python",
   "name": "python3"
  },
  "language_info": {
   "codemirror_mode": {
    "name": "ipython",
    "version": 3
   },
   "file_extension": ".py",
   "mimetype": "text/x-python",
   "name": "python",
   "nbconvert_exporter": "python",
   "pygments_lexer": "ipython3",
   "version": "3.12.9"
  }
 },
 "nbformat": 4,
 "nbformat_minor": 5
}
