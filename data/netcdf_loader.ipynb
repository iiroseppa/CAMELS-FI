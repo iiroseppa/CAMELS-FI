{
 "cells": [
  {
   "cell_type": "code",
   "execution_count": 1,
   "id": "9b99be88-0ab4-4a31-a670-65d9e1e19767",
   "metadata": {},
   "outputs": [],
   "source": [
    "import netCDF4\n",
    "\n",
    "from netCDF4 import Dataset\n",
    "\n",
    "import numpy as np\n",
    "\n",
    "import matplotlib.pyplot as plt\n",
    "from matplotlib.colors import LinearSegmentedColormap\n",
    "\n",
    "plt.rcParams['figure.dpi'] = 300\n",
    "\n",
    "# This script loads and visualizes data from a NetCDF file.\n",
    "# It reads the NetCDF file and extracts the desired variable."
   ]
  },
  {
   "cell_type": "code",
   "execution_count": 2,
   "id": "865e7fdc-62b6-480c-85d8-4a1a9e7bc517",
   "metadata": {},
   "outputs": [],
   "source": [
    "# Path to the NetCDF file\n",
    "file_path = \"/path/to/rrday_1961.nc\"\n",
    "file = Dataset(file_path, \"r\")"
   ]
  },
  {
   "cell_type": "code",
   "execution_count": 3,
   "id": "ab09f2b5-cefb-49c1-85ce-1986bdcb3b46",
   "metadata": {},
   "outputs": [],
   "source": [
    "# List all variables in the NetCDF file\n",
    "variables = file.variables\n",
    "print(variables.keys())"
   ]
  },
  {
   "cell_type": "code",
   "execution_count": 5,
   "id": "522c33c9-294d-4ac3-baa2-b5f9f4208700",
   "metadata": {},
   "outputs": [],
   "source": [
    "# Extract the 'RRday' variable and convert it to a NumPy array\n",
    "variable = np.asarray(variables['RRday'])\n",
    "# print(variable.shape)\n",
    "\n",
    "# Create a copy of the variable and set negative values to 0\n",
    "ET0_copy = variable.copy()\n",
    "ET0_copy[ET0_copy < 0] = 0"
   ]
  },
  {
   "cell_type": "code",
   "execution_count": null,
   "id": "b4d6a57a-06ef-49f1-95c1-a5c8b47cd5bb",
   "metadata": {},
   "outputs": [],
   "source": [
    "\"\"\"\n",
    "# Example of visualizing a chosen day, here day 180\n",
    "day = 180\n",
    "colors= [\"#000000\", \"#4ca9ff\", \"#ffffff\"] #custom colormap\n",
    "cmap = LinearSegmentedColormap.from_list(\n",
    "        \"Custom\", colors, N=250)\n",
    "plt.imshow(ET0_copy[day, :,:], cmap=cmap)\n",
    "plt.axis(\"off\")\n",
    "# Optionally, save the plot as an image file\n",
    "#plt.savefig(\"/path/to/output_image.png\", transparent=True)\n",
    "# Print the shape of the variable and the data for the specified day\n",
    "print(variable.shape)\n",
    "print(ET0_copy[day, :, :])\n",
    "\"\"\""
   ]
  }
 ],
 "metadata": {
  "kernelspec": {
   "display_name": "Python 3 (ipykernel)",
   "language": "python",
   "name": "python3"
  },
  "language_info": {
   "codemirror_mode": {
    "name": "ipython",
    "version": 3
   },
   "file_extension": ".py",
   "mimetype": "text/x-python",
   "name": "python",
   "nbconvert_exporter": "python",
   "pygments_lexer": "ipython3",
   "version": "3.12.9"
  }
 },
 "nbformat": 4,
 "nbformat_minor": 5
}
