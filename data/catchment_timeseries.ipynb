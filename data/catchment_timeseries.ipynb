{
 "cells": [
  {
   "cell_type": "code",
   "execution_count": 44,
   "id": "87bafb3f-eae7-42ac-927f-41377a192fb4",
   "metadata": {},
   "outputs": [],
   "source": [
    "import pandas as pd\n",
    "import geopandas as geopd\n",
    "\n",
    "import os\n",
    "import pathlib\n",
    "\n",
    "from tqdm.notebook import tqdm"
   ]
  },
  {
   "cell_type": "code",
   "execution_count": 42,
   "id": "ab20c1b5-527a-417d-a4c9-9a14642da52f",
   "metadata": {},
   "outputs": [],
   "source": [
    "order_list = ['discharge_vol', 'discharge_spec', 'precipitation', 'pet', 'snow_depth', 'swe', 'temperature_gmin', 'temperature_min', 'temperature_mean', 'temperature_max', 'humidity_rel', 'radiation_global']\n",
    "\n",
    "catchments_path = \"/home/iielse/Documents/DIWA/data/CAMELS-FI catchments/CAMELS-FI_catchments.gpkg\"\n",
    "src_root = \"/media/iielse/T9/CAMELS-FI/data/timeseries_by_attribute\"\n",
    "dst_root = \"/media/iielse/T9/CAMELS-FI/data/timeseries\"\n",
    "\n",
    "catchments = geopd.read_file(catchments_path, layer='v1')\n",
    "\n",
    "root_path = pathlib.Path(src_root)\n",
    "# Getting the files in \n",
    "files = [item for item in root_path.iterdir() if item.is_file()]"
   ]
  },
  {
   "cell_type": "code",
   "execution_count": 37,
   "id": "e9e04eb2-db7c-4921-9d02-7cb6cbfb8c7b",
   "metadata": {},
   "outputs": [
    {
     "data": {
      "text/plain": [
       "[PosixPath('/media/iielse/T9/CAMELS-FI/data/timeseries_by_attribute/precipitation.csv'),\n",
       " PosixPath('/media/iielse/T9/CAMELS-FI/data/timeseries_by_attribute/temperature_min.csv'),\n",
       " PosixPath('/media/iielse/T9/CAMELS-FI/data/timeseries_by_attribute/swe.csv'),\n",
       " PosixPath('/media/iielse/T9/CAMELS-FI/data/timeseries_by_attribute/temperature_mean.csv'),\n",
       " PosixPath('/media/iielse/T9/CAMELS-FI/data/timeseries_by_attribute/temperature_max.csv'),\n",
       " PosixPath('/media/iielse/T9/CAMELS-FI/data/timeseries_by_attribute/radiation_global.csv'),\n",
       " PosixPath('/media/iielse/T9/CAMELS-FI/data/timeseries_by_attribute/snow_depth.csv'),\n",
       " PosixPath('/media/iielse/T9/CAMELS-FI/data/timeseries_by_attribute/temperature_gmin.csv'),\n",
       " PosixPath('/media/iielse/T9/CAMELS-FI/data/timeseries_by_attribute/pet.csv'),\n",
       " PosixPath('/media/iielse/T9/CAMELS-FI/data/timeseries_by_attribute/humidity_rel.csv'),\n",
       " PosixPath('/media/iielse/T9/CAMELS-FI/data/timeseries_by_attribute/discharge_spec.csv'),\n",
       " PosixPath('/media/iielse/T9/CAMELS-FI/data/timeseries_by_attribute/discharge_vol.csv')]"
      ]
     },
     "execution_count": 37,
     "metadata": {},
     "output_type": "execute_result"
    }
   ],
   "source": [
    "files"
   ]
  },
  {
   "cell_type": "code",
   "execution_count": 46,
   "id": "ea57e05d-d4b1-4a38-9617-2eae46f54c6f",
   "metadata": {},
   "outputs": [
    {
     "data": {
      "application/vnd.jupyter.widget-view+json": {
       "model_id": "e769407d6e6c42e3a8b78d5c8a9395c6",
       "version_major": 2,
       "version_minor": 0
      },
      "text/plain": [
       "  0%|          | 0/320 [00:00<?, ?it/s]"
      ]
     },
     "metadata": {},
     "output_type": "display_data"
    }
   ],
   "source": [
    "# Some of the files contain too many catchments (to short flow time series), so the correct ones are read from the definitely correct place.\n",
    "gauges = list(catchments['Paikka_Id'])\n",
    "\n",
    "for gauge in tqdm(gauges):\n",
    "    columns = []\n",
    "    \n",
    "    for file in files:\n",
    "        attribute = file.stem\n",
    "        meteo = pd.read_csv(file)\n",
    "        meteo['date'] = pd.to_datetime(meteo['date']) \n",
    "        meteo = meteo.set_index('date')\n",
    "        column = meteo[[gauge]]\n",
    "        column = column.rename({gauge: attribute}, axis=1)\n",
    "        columns.append(column)\n",
    "    output = pd.concat(columns, axis=1)\n",
    "    # reordering the columns\n",
    "    output = output[order_list]\n",
    "    dst_path = os.path.join(dst_root, f\"CAMELS_FI_hydromet_timeseries_{gauge}_19610101-20231231.csv\")\n",
    "    output.to_csv(dst_path)\n",
    "    break"
   ]
  },
  {
   "cell_type": "code",
   "execution_count": 45,
   "id": "37811221-00e1-4ac1-97f3-edd69a9af50f",
   "metadata": {},
   "outputs": [
    {
     "data": {
      "text/plain": [
       "'/media/iielse/T9/CAMELS-FI/data/timeseries/CAMELS_FI_hydromet_timeseries_996_19610101-20231231.csv'"
      ]
     },
     "execution_count": 45,
     "metadata": {},
     "output_type": "execute_result"
    }
   ],
   "source": [
    "dst_path"
   ]
  },
  {
   "cell_type": "code",
   "execution_count": null,
   "id": "8d39a23d-57e1-41f0-b17d-a05f2af83d1a",
   "metadata": {},
   "outputs": [],
   "source": []
  }
 ],
 "metadata": {
  "kernelspec": {
   "display_name": "Python 3 (ipykernel)",
   "language": "python",
   "name": "python3"
  },
  "language_info": {
   "codemirror_mode": {
    "name": "ipython",
    "version": 3
   },
   "file_extension": ".py",
   "mimetype": "text/x-python",
   "name": "python",
   "nbconvert_exporter": "python",
   "pygments_lexer": "ipython3",
   "version": "3.13.2"
  }
 },
 "nbformat": 4,
 "nbformat_minor": 5
}
