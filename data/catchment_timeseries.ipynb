{
 "cells": [
  {
   "cell_type": "code",
   "execution_count": 1,
   "id": "87bafb3f-eae7-42ac-927f-41377a192fb4",
   "metadata": {},
   "outputs": [],
   "source": [
    "import pandas as pd\n",
    "import geopandas as geopd\n",
    "\n",
    "import numpy as np\n",
    "\n",
    "import os\n",
    "import pathlib\n",
    "\n",
    "from tqdm.notebook import tqdm\n",
    "\n",
    "from timeseries_utils import read_daily_timeseries_csv"
   ]
  },
  {
   "cell_type": "code",
   "execution_count": 2,
   "id": "ab20c1b5-527a-417d-a4c9-9a14642da52f",
   "metadata": {},
   "outputs": [],
   "source": [
    "order_list = ['discharge_vol', 'discharge_spec', 'precipitation', 'pet', 'pe_era5_land', 'pet_fmi', 'snow_evaporation', 'swe', 'swe_cci3-1', 'snow_depth', 'temperature_gmin', 'temperature_min', 'temperature_mean', 'temperature_max', 'humidity_rel', 'radiation_global']\n",
    "\n",
    "calculate_pet = False\n",
    "\n",
    "#for bilal\n",
    "#order_list = ['discharge_vol', 'discharge_spec', 'precipitation', 'snow_depth', 'temperature_gmin', 'temperature_min', 'temperature_mean', 'temperature_max', 'humidity_rel', 'radiation_global']\n",
    "\n",
    "catchments_path = \"/media/iielse/T9/CAMELS-FI/data/CAMELS_FI_catchments.gpkg\"\n",
    "src_root = \"/media/iielse/T9/CAMELS-FI/data/timeseries_by_attribute\"\n",
    "dst_root = \"/media/iielse/T9/CAMELS-FI/data/timeseries\"\n",
    "catchments = geopd.read_file(catchments_path, layer='catchments')\n",
    "\"\"\"\n",
    "# for bilal\n",
    "catchments_path = \"/home/iiro/Documents/DIWA/bilal/watersheds.gpkg\"\n",
    "src_root = \"/home/iiro/Documents/DIWA/bilal/timeseries_by_attribute\"\n",
    "dst_root = \"/home/iiro/Documents/DIWA/bilal/timeseries\"\n",
    "catchments = geopd.read_file(catchments_path, layer='watersheds')\n",
    "\"\"\"\n",
    "root_path = pathlib.Path(src_root)\n",
    "# Getting the files in \n",
    "files = [item for item in root_path.iterdir() if item.is_file()]"
   ]
  },
  {
   "cell_type": "markdown",
   "id": "9cab273e-5fcf-4cc2-a5ed-3bc2915c6766",
   "metadata": {},
   "source": [
    "### Combining snow evaporation, fmi pet and era5 pet based on if snow depth > 0"
   ]
  },
  {
   "cell_type": "code",
   "execution_count": 3,
   "id": "99133e8a-ced9-4702-b561-d993d5bfeaf6",
   "metadata": {},
   "outputs": [],
   "source": [
    "# Some of the files contain too many catchments (too short flow time series), so the correct ones are read from the definitely correct place.\n",
    "gauges = list(catchments['gauge_id'])\n",
    "\n",
    "if calculate_pet:\n",
    "\n",
    "    for file in files:\n",
    "        attribute = file.stem\n",
    "\n",
    "        if attribute == 'pet_fmi':\n",
    "            pet_fmi = read_daily_timeseries_csv(file)\n",
    "            pet_fmi = pet_fmi[gauges]\n",
    "            \n",
    "        if attribute == 'pet_era5_land':\n",
    "            pet_era5 = read_daily_timeseries_csv(file)\n",
    "            pet_era5 = pet_era5[gauges]\n",
    "        if attribute == 'snow_evaporation':\n",
    "            snow_e = read_daily_timeseries_csv(file)\n",
    "            snow_e = snow_e[gauges]\n",
    "        if attribute == 'snow_depth':\n",
    "            snow_depth = read_daily_timeseries_csv(file)\n",
    "            # snow depth has some extra gauges that have been removed\n",
    "            snow_depth = snow_depth[gauges]\n",
    "    assert pet_era5.columns.equals(snow_e.columns), \"columns don't match\"\n",
    "    assert pet_era5.columns.equals(snow_depth.columns), \"columns don't match\"\n",
    "    assert pet_era5.index.equals(snow_e.index), \"indices don't match\"\n",
    "    assert pet_era5.index.equals(snow_depth.index), \"indices don't match\"\n",
    "\n",
    "    # Snow evaporation is used for snowy days\n",
    "    pet = pd.DataFrame(np.where(snow_depth > 0, snow_e, np.nan), index=pet_era5.index, columns=pet_era5.columns)\n",
    "    # Filling non-snowy observations with FMI pet,\n",
    "    pet = pet.fillna(pet_fmi)\n",
    "    # then the gaps with era5-land pet\n",
    "    pet = pet.fillna(pet_era5)\n",
    "\n",
    "    # Limiting the valid range to 1981, since era5 has so different values from \n",
    "    pet = pet.loc[\"1981\":\"2023\"]\n",
    "    \n",
    "    pet_path = os.path.join(src_root, 'pet.csv')\n",
    "    pet_path = pathlib.Path(pet_path)\n",
    "    pet.to_csv(pet_path)\n",
    "    if pet_path not in files:\n",
    "        files.append(pet_path)\n",
    "    "
   ]
  },
  {
   "cell_type": "code",
   "execution_count": 5,
   "id": "ea57e05d-d4b1-4a38-9617-2eae46f54c6f",
   "metadata": {},
   "outputs": [
    {
     "data": {
      "application/vnd.jupyter.widget-view+json": {
       "model_id": "a58294390fea48ab8eda8337c3925b4e",
       "version_major": 2,
       "version_minor": 0
      },
      "text/plain": [
       "  0%|          | 0/320 [00:00<?, ?it/s]"
      ]
     },
     "metadata": {},
     "output_type": "display_data"
    }
   ],
   "source": [
    "for gauge in tqdm(gauges):\n",
    "    columns = []\n",
    "    # inefficiently many file openings, but not worth the rewrite\n",
    "    for file in files:\n",
    "        attribute = file.stem\n",
    "        meteo = read_daily_timeseries_csv(file)\n",
    "\n",
    "        #column = meteo[[gauge]]\n",
    "        \n",
    "        \n",
    "        column = meteo.loc[\"1961\":\"2023\", [gauge]]\n",
    "        column = column.rename({gauge: attribute}, axis=1)\n",
    "        columns.append(column)\n",
    "    output = pd.concat(columns, axis=1)\n",
    "    # reordering the columns\n",
    "    output = output[order_list]\n",
    "    dst_path = os.path.join(dst_root, f\"CAMELS_FI_hydromet_timeseries_{gauge}_19610101-20231231.csv\")\n",
    "    output.to_csv(dst_path)"
   ]
  },
  {
   "cell_type": "code",
   "execution_count": null,
   "id": "a3372794-60d2-41e4-977b-85ddc7a9442f",
   "metadata": {},
   "outputs": [],
   "source": []
  }
 ],
 "metadata": {
  "kernelspec": {
   "display_name": "Python 3 (ipykernel)",
   "language": "python",
   "name": "python3"
  },
  "language_info": {
   "codemirror_mode": {
    "name": "ipython",
    "version": 3
   },
   "file_extension": ".py",
   "mimetype": "text/x-python",
   "name": "python",
   "nbconvert_exporter": "python",
   "pygments_lexer": "ipython3",
   "version": "3.13.2"
  }
 },
 "nbformat": 4,
 "nbformat_minor": 5
}
