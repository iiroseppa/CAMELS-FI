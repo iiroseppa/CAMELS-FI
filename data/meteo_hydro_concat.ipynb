{
 "cells": [
  {
   "cell_type": "code",
   "execution_count": 2,
   "id": "ebae468e-ad80-40c1-97e6-ec4c99138257",
   "metadata": {},
   "outputs": [],
   "source": [
    "import pandas as pd\n",
    "\n",
    "import os\n",
    "import pathlib\n",
    "\n",
    "# This script concatenates meteorological data with hydrological data for each catchment.\n",
    "# It reads meteorological data from CSV files and hydrological data from a Parquet file,\n",
    "# then merges them based on the catchment ID."
   ]
  },
  {
   "cell_type": "code",
   "execution_count": 6,
   "id": "a3ebd78f-a9c8-40f5-a945-422c7d41d7a7",
   "metadata": {},
   "outputs": [],
   "source": [
    "# Path to the hydrological data Parquet file\n",
    "flow_path = '/path/to/flows_from_1961.parquet'\n",
    "root = \"/media/iiro/T9/CAMELS-FI/data/timeseries\"\n",
    "\n",
    "# Root directory containing meteorological data CSV files\n",
    "root = \"/path/to/timeseries\"\n",
    "root_path = pathlib.Path(root)\n",
    "\n",
    "# List all files in the root directory\n",
    "files = [item for item in root_path.iterdir() if item.is_file()]"
   ]
  },
  {
   "cell_type": "code",
   "execution_count": null,
   "id": "7aa6b468-bec2-4780-bff1-34c1c1a4392e",
   "metadata": {},
   "outputs": [],
   "source": [
    "# Verbose mode for printing messages\n",
    "verbose = True\n",
    "\n",
    "# Read the hydrological data\n",
    "flows = pd.read_parquet(flow_path)\n",
    "\n",
    "# Process each meteorological data file\n",
    "for file in files:\n",
    "    meteo = pd.read_csv(file)\n",
    "    meteo['date'] = pd.to_datetime(meteo['date']) \n",
    "    meteo = meteo.set_index('date')\n",
    "    \n",
    "   # Skip files that already have a discharge column\n",
    "    if 'discharge_vol' in meteo:\n",
    "        if verbose:\n",
    "            print(f\"Skipped {file} because it already has a discharge column\")\n",
    "        continue\n",
    "        \n",
    "    # Extract the catchment ID from the file name    \n",
    "    place_id = str(file)[-26:-22]\n",
    "\n",
    "    # Get the hydrological data for the catchment\n",
    "    flow = flows[[place_id]]\n",
    "    flow = flow.rename({place_id: 'discharge_vol'}, axis=1)\n",
    "\n",
    "    # Merge the meteorological and hydrological data\n",
    "    hydrometeo = meteo.join(flow, validate='one_to_one')\n",
    "\n",
    "    # Save the merged data back to the CSV file\n",
    "    hydrometeo.to_csv(file)\n",
    "    \n",
    "    break"
   ]
  },
  {
   "cell_type": "code",
   "execution_count": null,
   "id": "89f1849f-5d92-45e1-976e-d1c1180a42e1",
   "metadata": {},
   "outputs": [],
   "source": [
    "#  Display the meteorological and merged data tables \n",
    "meteo\n",
    "hydrometeo"
   ]
  }
 ],
 "metadata": {
  "kernelspec": {
   "display_name": "Python 3 (ipykernel)",
   "language": "python",
   "name": "python3"
  },
  "language_info": {
   "codemirror_mode": {
    "name": "ipython",
    "version": 3
   },
   "file_extension": ".py",
   "mimetype": "text/x-python",
   "name": "python",
   "nbconvert_exporter": "python",
   "pygments_lexer": "ipython3",
   "version": "3.12.9"
  }
 },
 "nbformat": 4,
 "nbformat_minor": 5
}
