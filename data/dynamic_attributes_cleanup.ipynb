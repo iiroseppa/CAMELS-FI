{
 "cells": [
  {
   "cell_type": "code",
   "execution_count": 1,
   "id": "88ad52d7-bab6-4506-818d-067049ab40a0",
   "metadata": {},
   "outputs": [],
   "source": [
    "import pandas as pd\n",
    "from timeseries_utils import read_daily_timeseries_csv\n",
    "\n",
    "import pathlib\n",
    "\n",
    "import warnings\n",
    "warnings.filterwarnings(\"error\")"
   ]
  },
  {
   "cell_type": "markdown",
   "id": "b0821761-8da7-46e0-9f0d-a8fc56df4240",
   "metadata": {},
   "source": [
    "# The purpose of this script is to make the timeseries organised by attribute to the same format as the ones organised by gauge.\n",
    "It also drops some catchments that were discarded after the attribute was calculated"
   ]
  },
  {
   "cell_type": "code",
   "execution_count": 2,
   "id": "3319cd38-f7a1-45a9-93d9-227254ed0c46",
   "metadata": {},
   "outputs": [],
   "source": [
    "dst_dir = '/media/iielse/T9/CAMELS-FI/data/timeseries_by_attribute'\n",
    "src_dir = '/home/iielse/Documents/DIWA/data/CAMELS-FI construction/timeseries_by_attribute'\n",
    "\n",
    "# Used to get the definitive final set of gauges\n",
    "gauge_meta_path = '/home/iielse/Documents/DIWA/data/CAMELS-FI construction/CAMELS_FI_meta_attributes.csv'\n",
    "meta = pd.read_csv(gauge_meta_path)\n",
    "\n",
    "\n",
    "\n",
    "root_path = pathlib.Path(src_dir)\n",
    "# Getting the files in \n",
    "files = [item for item in root_path.iterdir() if item.is_file()]"
   ]
  },
  {
   "cell_type": "code",
   "execution_count": 3,
   "id": "245fca66-6719-4557-b128-8436ce283882",
   "metadata": {},
   "outputs": [],
   "source": [
    "for file in files:\n",
    "    # some files ended up with format ,\"0.5\", \"0.1\" that needs changing\n",
    "    comma_files = ['discharge_spec', 'discharge_vol', 'humidity_rel',\n",
    "                   'pe_era5_land', 'pet', 'pet_fmi', \n",
    "                  ]\n",
    "    if file.stem in comma_files:\n",
    "        timeseries = read_daily_timeseries_csv(file, decimal=',')\n",
    "    else:\n",
    "        timeseries = read_daily_timeseries_csv(file)\n",
    "    \n",
    "    # Renaming virtual gauges to use '-' as a separator instead of '_'this caused some bugs as _ was used in file names\n",
    "    renames = {name:name.replace('_', '-') for name in timeseries.columns if '_' in name}\n",
    "    timeseries = timeseries.rename(renames, axis=1)\n",
    "    # Selecting only the final gauges\n",
    "    timeseries = timeseries[meta.gauge_id]\n",
    "    dst_path = pathlib.Path(dst_dir).joinpath(file.name)\n",
    "    timeseries.to_csv(dst_path)"
   ]
  }
 ],
 "metadata": {
  "kernelspec": {
   "display_name": "Python 3 (ipykernel)",
   "language": "python",
   "name": "python3"
  },
  "language_info": {
   "codemirror_mode": {
    "name": "ipython",
    "version": 3
   },
   "file_extension": ".py",
   "mimetype": "text/x-python",
   "name": "python",
   "nbconvert_exporter": "python",
   "pygments_lexer": "ipython3",
   "version": "3.13.2"
  }
 },
 "nbformat": 4,
 "nbformat_minor": 5
}
