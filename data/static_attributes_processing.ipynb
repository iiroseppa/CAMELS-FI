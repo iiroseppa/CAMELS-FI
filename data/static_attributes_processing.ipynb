{
 "cells": [
  {
   "cell_type": "code",
   "execution_count": 2,
   "id": "0dfb1910-8753-4934-88fe-3fdfd7a43f06",
   "metadata": {},
   "outputs": [],
   "source": [
    "import pandas as pd\n",
    "import os"
   ]
  },
  {
   "cell_type": "code",
   "execution_count": 3,
   "id": "81bde83f-8be2-40a8-bed6-700dc64e871c",
   "metadata": {},
   "outputs": [],
   "source": [
    "# This script processes and organizes static attributes for catchments.\n",
    "# It reads data from an excel file, rounds the values, and splits the data into different categories.\n",
    "# The processed data is then saved as CSV files for each category.\n",
    "\n",
    "# Path to the source excel file containing static attributes\n",
    "path = '/path/to/CAMELS-FI_static_attributes.ods'\n",
    "full_data = pd.read_excel(path)"
   ]
  },
  {
   "cell_type": "code",
   "execution_count": null,
   "id": "f8a75682-c08e-46ec-88c3-ed3fa84aa948",
   "metadata": {},
   "outputs": [],
   "source": [
    "#full_data # For checking data structure"
   ]
  },
  {
   "cell_type": "code",
   "execution_count": 5,
   "id": "cd57fbfb-e441-4fb5-9188-62c2ec2ae6d5",
   "metadata": {},
   "outputs": [],
   "source": [
    "# Rounding the values to a reasonable amount of decimal places\n",
    "# Coordinates should not be rounded\n",
    "lon_lat = full_data[['gauge_lat', 'gauge_lon']]\n",
    "full_data = full_data.round(2)\n",
    "full_data[['gauge_lat', 'gauge_lon']] = lon_lat"
   ]
  },
  {
   "cell_type": "code",
   "execution_count": 7,
   "id": "818dd13f-5485-4077-9b8f-a7befab72c84",
   "metadata": {},
   "outputs": [],
   "source": [
    "# Define the columns for each category\n",
    "table_columns = {}\n",
    "\n",
    "dst_dir = '/path/to/destination_directory'\n",
    "\n",
    "columns = ['gauge_id'] + [\n",
    "    'gauge_name', 'gauge_lon', 'gauge_lat',\n",
    "    'gauge_easting', 'gauge_northing', 'area',\n",
    "    'nestedness', 'basin_id', 'basin_name',\n",
    "    'water_region_code', 'water_region_name', 'cross_border_perc',\n",
    "    'best_quality'\n",
    "    ]\n",
    "table_columns['meta'] = columns\n",
    "\n",
    "columns = ['gauge_id'] + [\n",
    "    'slope', 'elev_gauge', 'elev_mean', 'elev_min',\n",
    "    'elev_10', 'elev_50', 'elev_90',\n",
    "    'elev_max', 'elev_range'\n",
    "    ]\n",
    "table_columns['topographic'] = columns\n",
    "\n",
    "columns = ['gauge_id'] + [\n",
    "    'p_mean', 'pet_mean', 'temperature_mean',\n",
    "    'aridity', 'p_seasonality', 'frac_snow',\n",
    "    'high_prec_freq', 'high_prec_dur', 'high_prec_timing', \n",
    "    'low_prec_freq', 'low_prec_dur', 'low_prec_timing'\n",
    "    ]\n",
    "table_columns['climatic'] = columns\n",
    "\n",
    "columns = ['gauge_id'] + [\n",
    "    'p_mean', 'pet_mean', 'temperature_mean',\n",
    "    'aridity', 'p_seasonality', 'frac_snow',\n",
    "    'high_prec_freq', 'high_prec_dur', 'high_prec_timing', \n",
    "    'low_prec_freq', 'low_prec_dur', 'low_prec_timing'\n",
    "    ]\n",
    "table_columns['climatic'] = columns\n",
    "\n",
    "columns = ['gauge_id'] + [\n",
    "    'timeseries_number_of_years', 'sign_start_date', 'sign_end_date', \n",
    "    'sign_number_of_years', 'sign_number_of_obs', 'q_mean', \n",
    "    'runoff_ratio', 'stream_elas', 'slope_fdc',\n",
    "    'baseflow_index_landson', 'baseflow_index_lfstat',  'hfd_mean',\n",
    "    'Q5', 'Q95', 'high_q_freq',\n",
    "    'high_q_dur', 'low_q_freq', 'low_q_dur',\n",
    "    'zero_q_freq'\n",
    "    ]\n",
    "table_columns['hydrologic'] = columns\n",
    "\n",
    "columns = ['gauge_id'] + [\n",
    "    'bedrock_perc', 'glaciofluvial_perc', 'silt_perc',\n",
    "    'till_perc', 'clay_perc', 'peat_perc', \n",
    "    'soil_depth'\n",
    "    ]\n",
    "table_columns['soil'] = columns\n",
    "\n",
    "# All available Corines land cover classes are used\n",
    "lc_classes = [\n",
    "    'crop_perc', 'grass_perc', 'shrub_perc',\n",
    "    'dwood_perc', 'ewood_perc', 'urban_perc',\n",
    "    'inwater_perc', 'bares_perc', 'wetland_perc'\n",
    "    ]\n",
    "lc_years = [2000, 2006, 2012, 2018]\n",
    "\n",
    "lc_columns = [f\"{lc_class}_{year}\" for year in lc_years for lc_class in lc_classes]\n",
    "\n",
    "columns = ['gauge_id'] + lc_columns\n",
    "table_columns['landcover'] = columns\n",
    "\n",
    "columns = ['gauge_id'] + [\n",
    "    'num_inhabitants', 'dens_inhabitants', 'num_dam',\n",
    "    'num_reservoir', 'reservoir_cap', 'num_regulation_other',\n",
    "    'regulation_level'\n",
    "    ]\n",
    "table_columns['humaninfluence'] = columns\n",
    "\n",
    "# Save the data for each category to a separate CSV file\n",
    "for name in table_columns:\n",
    "    data = full_data[table_columns[name]]\n",
    "    dst_path = os.path.join(dst_dir, f\"CAMELS_FI_{name}_attributes.csv\")\n",
    "    data.to_csv(dst_path, sep=',', index=False)"
   ]
  },
  {
   "cell_type": "code",
   "execution_count": null,
   "id": "4128c448-df67-4c38-9b51-0ca06dcc63c2",
   "metadata": {},
   "outputs": [],
   "source": []
  }
 ],
 "metadata": {
  "kernelspec": {
   "display_name": "Python 3 (ipykernel)",
   "language": "python",
   "name": "python3"
  },
  "language_info": {
   "codemirror_mode": {
    "name": "ipython",
    "version": 3
   },
   "file_extension": ".py",
   "mimetype": "text/x-python",
   "name": "python",
   "nbconvert_exporter": "python",
   "pygments_lexer": "ipython3",
   "version": "3.12.9"
  }
 },
 "nbformat": 4,
 "nbformat_minor": 5
}
