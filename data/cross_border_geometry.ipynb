{
 "cells": [
  {
   "cell_type": "code",
   "execution_count": 1,
   "id": "00bfcfcd-a1b7-4d64-b2a6-50662851c089",
   "metadata": {},
   "outputs": [],
   "source": [
    "import pandas as pd\n",
    "import geopandas as geopd\n",
    "\n",
    "import matplotlib.pyplot as plt\n",
    "plt.rcParams[\"figure.dpi\"]  = 300\n",
    "plt.style.use('dark_background')"
   ]
  },
  {
   "cell_type": "markdown",
   "id": "fb9ff16c-6944-4bb8-ae8b-087b1727055b",
   "metadata": {},
   "source": [
    "# This script merges manually adjusted geometries for catchments that extend outside of Finland back into the main dataset.\n",
    "# The geometries were manually adjusted in GIS by combining other DEMs with the Finnish DEM."
   ]
  },
  {
   "cell_type": "code",
   "execution_count": 11,
   "id": "4cc1cb90-36c3-40d6-9d49-605118742a05",
   "metadata": {},
   "outputs": [],
   "source": [
    "# Path to the GeoPackage containing manually adjusted catchments\n",
    "geometry_path = '/path/to/cross_border_catchments.gpkg'\n",
    "geometries = gpd.read_file(geometry_path, layer='border_geoms')\n",
    "\n",
    "# Path to the main catchments GeoPackage\n",
    "catchments_path = '/path/to/CAMELS-FI_catchments.gpkg'\n",
    "catchments = geopd.read_file(catchments_path, layer='attributes_v1')"
   ]
  },
  {
   "cell_type": "code",
   "execution_count": null,
   "id": "e84d2f8e-38f0-424a-ba9f-1515b773976d",
   "metadata": {},
   "outputs": [],
   "source": [
    "# Plot the catchments and the manually adjusted geometries\n",
    "ax = catchments.plot()\n",
    "ax = geometries.plot(ax=ax, color='lime', alpha=0.2)"
   ]
  },
  {
   "cell_type": "code",
   "execution_count": null,
   "id": "a355726f-6b85-4f35-9cfc-5977168dcd95",
   "metadata": {},
   "outputs": [],
   "source": [
    "# Display the catchments and geometries tables\n",
    "catchments\n",
    "geometries"
   ]
  },
  {
   "cell_type": "code",
   "execution_count": 28,
   "id": "db2d4640-4809-4f1d-93ee-ca70d50f53da",
   "metadata": {},
   "outputs": [],
   "source": [
    "# Set the location ID as the index for easier manipulation\n",
    "geometries = geometries.set_index('Paikka_Id', drop=False)\n",
    "catchments = catchments.set_index('Paikka_Id', drop=False)"
   ]
  },
  {
   "cell_type": "code",
   "execution_count": 35,
   "id": "71c0aaa7-d1e5-4338-b49e-e933775fa4d3",
   "metadata": {},
   "outputs": [],
   "source": [
    "# Create a copy of the catchments and update the geometries with the manually adjusted ones\n",
    "result = catchments.copy()\n",
    "result.loc[geometries.index, 'geometry'] = geometries.geometry"
   ]
  },
  {
   "cell_type": "code",
   "execution_count": null,
   "id": "d057eba2-b829-434f-a3a0-43c8a4ab75d7",
   "metadata": {},
   "outputs": [],
   "source": [
    "# Display the updated catchments table\n",
    "result"
   ]
  },
  {
   "cell_type": "code",
   "execution_count": null,
   "id": "47afb443-9936-440f-8c7f-9da63d50acc1",
   "metadata": {},
   "outputs": [],
   "source": [
    "# Plot the updated catchments\n",
    "result.plot()"
   ]
  },
  {
   "cell_type": "code",
   "execution_count": 42,
   "id": "7549df0a-bd27-4354-b8fc-71ee8ba1e00a",
   "metadata": {},
   "outputs": [],
   "source": [
    "# Save the updated catchments to the original GeoPackage\n",
    "dst_path = catchments_path\n",
    "result = result.reset_index(drop=True)\n",
    "result.to_file(dst_path, layer='attributes_v1')"
   ]
  }
 ],
 "metadata": {
  "kernelspec": {
   "display_name": "Python 3 (ipykernel)",
   "language": "python",
   "name": "python3"
  },
  "language_info": {
   "codemirror_mode": {
    "name": "ipython",
    "version": 3
   },
   "file_extension": ".py",
   "mimetype": "text/x-python",
   "name": "python",
   "nbconvert_exporter": "python",
   "pygments_lexer": "ipython3",
   "version": "3.12.9"
  }
 },
 "nbformat": 4,
 "nbformat_minor": 5
}
